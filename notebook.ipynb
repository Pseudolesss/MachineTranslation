{
 "cells": [
  {
   "cell_type": "markdown",
   "metadata": {},
   "source": [
    "# **Assignement 2 : Machine Translation 1**\n",
    "\n",
    "## L'Hoest Julien, Libert Robin, Vieslet Thomas"
   ]
  },
  {
   "cell_type": "markdown",
   "metadata": {},
   "source": [
    "## Model overview"
   ]
  },
  {
   "cell_type": "markdown",
   "metadata": {},
   "source": [
    "The task of this project is to implement a machine translation system using RNN and compare the results of 3 different embeddings: word2vec, fasttext and glove. We decided to apply the translation from German to English."
   ]
  },
  {
   "cell_type": "markdown",
   "metadata": {},
   "source": [
    "### Pre-processing"
   ]
  },
  {
   "cell_type": "markdown",
   "metadata": {},
   "source": [
    "The dataset on which the training is applied on a medical dataset from German to English (.tmx file). This dataset is cleaned and converted into CSV file. The cleaning applied consists in:"
   ]
  },
  {
   "cell_type": "markdown",
   "metadata": {},
   "source": [
    "* Replacing numbers and punctuations by spaces which will be dropped by the tokenization step\n",
    "* Converting in lower case when needed by embedding\n",
    "* Dropping the sentence that are longer than a given threshold"
   ]
  },
  {
   "cell_type": "markdown",
   "metadata": {},
   "source": [
    "The chosen emmbedding is then loaded in the *Preprocess* object. The corresponding vectors are stored in the EN_vec and DE_vec. Some adjustements, sometimes, are needed depending on the initial embedding format."
   ]
  },
  {
   "cell_type": "markdown",
   "metadata": {},
   "source": [
    "The dataset is then split between the test and the train set according to the previous specifications. Using the Field object of torchtext, a vocabulary is built on the training data for each language. A vocabulary maps the words of the training set to the corresponding vectors in the embedding. The embedding vectors are pretrained and supposed to capture the semantic of the corresponding word through their high dimension (size 300). 2 list of vocabulary are obtained."
   ]
  },
  {
   "cell_type": "markdown",
   "metadata": {},
   "source": [
    "### Architecture"
   ]
  },
  {
   "cell_type": "markdown",
   "metadata": {},
   "source": [
    "The system we implemented is based on the classical encoder/decoder architecture for machine translation and the used RNN are based on Long Short-Term Memory (LSTM) architecture. The hyper-parameters of the model are conventional ones whose relative efficiency could be considered on this page of result : https://medium.com/@vina.wt.chang/hyperparameter-tuning-for-nmt-af44fbcecccb."
   ]
  },
  {
   "cell_type": "markdown",
   "metadata": {},
   "source": [
    "#### Encoder"
   ]
  },
  {
   "cell_type": "markdown",
   "metadata": {},
   "source": [
    "The Encoder RNN is initiated with usual parameters: *input_size* (2000), *embedding_size* (300), *hidden_size* (1024), *number of layers* (2) and *the dropout* (0.5). The german embeddings are also stored in the encoder object. The training of the Encoder proceed as follow:"
   ]
  },
  {
   "cell_type": "markdown",
   "metadata": {},
   "source": [
    "* The first block of the Encoder is taking care of mapping the indexed input word to the corresponding embedding vector\n",
    "\n",
    "* Afterwards, each word vector of the input sequence go through the RNN (of 2 layers) and is combined with the hidden and cell states of the previous time step.\n",
    "* When the whole sequence of word is gone through the LSTM, the obtained hidden and cell states compose 2 context vectors for the input sequence."
   ]
  },
  {
   "cell_type": "markdown",
   "metadata": {},
   "source": [
    "This sequence can be passed to the decoder for translation to English"
   ]
  },
  {
   "cell_type": "markdown",
   "metadata": {},
   "source": [
    "#### Decoder"
   ]
  },
  {
   "cell_type": "markdown",
   "metadata": {},
   "source": [
    "The Decoder must be initiated with the same parameters as the Encoder. However, an additionnal linear layer is added in the end of the RNN for probability computation.  The training of the decoder proceed as follow:"
   ]
  },
  {
   "cell_type": "markdown",
   "metadata": {},
   "source": [
    "* The context vector obtained from the decoder is fed to the network as hidden and cell states and a \"Start Of Sequence\" token is fed as input\n",
    "* After being combined with the context vector and going through the linear layer, probabilities for all the vocalubary word are computed and the one with highest probability is chosen.\n",
    "* Next, two situations are possible (depending on the teacher force ratio): the output with the highest probability of previous iteration is the input or the input is the true English word (very important for the model to be trained efficiently). In both cases, the hidden and cell states from the previous LSTM cellare used as input."
   ]
  },
  {
   "cell_type": "markdown",
   "metadata": {},
   "source": [
    "#### Seq2seq"
   ]
  },
  {
   "cell_type": "markdown",
   "metadata": {},
   "source": [
    "The overall training process is simply composed of the following steps:"
   ]
  },
  {
   "cell_type": "markdown",
   "metadata": {},
   "source": [
    "* Provide the Encoder with the input sequences (German) of the dataset and iterate until the End Of the Sequence is reached.\n",
    "* Provide the Decoder with the context vectors of the sequence obtained from the Encoder to produce an the most probable output and use it together with the actual English words of the sequence to train the decoder.\n",
    "* Iterate over all the sequences of the datatset."
   ]
  },
  {
   "cell_type": "markdown",
   "metadata": {},
   "source": [
    "### Imports"
   ]
  },
  {
   "cell_type": "code",
   "execution_count": 1,
   "metadata": {},
   "outputs": [],
   "source": [
    "import torch\n",
    "import torch.nn as nn\n",
    "import torch.optim as optim\n",
    "from torchtext.data import Field, BucketIterator\n",
    "from torch.utils.tensorboard import SummaryWriter  # to print to tensorboard\n",
    "from utils import translate_sentence, bleu, save_checkpoint, load_checkpoint,\\\n",
    "    DataFrameDataset, DE_sentence_to_bytes_representation_string, clean_sentence\n",
    "import parameters as PRM\n",
    "from preprocess import Preprocess\n",
    "import random\n",
    "import pickle"
   ]
  },
  {
   "cell_type": "markdown",
   "metadata": {},
   "source": [
    "### Prepare dataset\n",
    "\n",
    "* Choose embeddings fasttext or glove or word2vec\n",
    "* Load the dataset then drop the sentences with a length > 20\n",
    "* We took 100000 sentences from the dataset before preprocessing"
   ]
  },
  {
   "cell_type": "code",
   "execution_count": 2,
   "metadata": {},
   "outputs": [],
   "source": [
    "choose_embeddings = 'fasttext'\n",
    "# choose_embeddings = 'glove'\n",
    "# choose_embeddings = 'word2vec'\n",
    "\n",
    "# Reference to data\n",
    "preprocessing = Preprocess()\n",
    "preprocessing.load_wiki()\n",
    "# Drop pairs which are too long\n",
    "preprocessing.drop_longest_wiki_sentences()"
   ]
  },
  {
   "cell_type": "markdown",
   "metadata": {},
   "source": [
    "* In the cell below, we load the embeddings and create the training and testing set.\n",
    "* After some proprocessing on the dataset, we obtained a training set of length 45306 and a testing set of length 19417"
   ]
  },
  {
   "cell_type": "code",
   "execution_count": 3,
   "metadata": {},
   "outputs": [
    {
     "name": "stdout",
     "output_type": "stream",
     "text": [
      "Length of the training dataset:  45306\n",
      "Length of the testing dataset:  19417\n"
     ]
    }
   ],
   "source": [
    "if choose_embeddings == 'fasttext':\n",
    "    preprocessing.load_fasttext()\n",
    "    DE_lower, EN_lower, special_token_initiated = False, True, True\n",
    "elif choose_embeddings == 'glove':\n",
    "    preprocessing.load_glove()\n",
    "    DE_lower, EN_lower, special_token_initiated = True, True, False\n",
    "elif choose_embeddings == 'word2vec':\n",
    "    preprocessing.load_word2vec()\n",
    "    DE_lower, EN_lower, special_token_initiated = True, True, False\n",
    "\n",
    "# Check for the German word2vec embedding with bytes representation\n",
    "if preprocessing.bytes_representation_for_DE_word:\n",
    "    preprocessing.sentences[PRM.SOURCE] = preprocessing.sentences[PRM.SOURCE]\\\n",
    "        .apply(DE_sentence_to_bytes_representation_string)\n",
    "\n",
    "\n",
    "\n",
    "german = Field(lower=DE_lower,\n",
    "               init_token=PRM.SOS_TOKEN, eos_token=PRM.EOS_TOKEN, pad_token=PRM.PAD_TOKEN, unk_token=PRM.UNK_TOKEN)\n",
    "\n",
    "english = Field(lower=EN_lower,\n",
    "                is_target=True,\n",
    "                init_token=PRM.SOS_TOKEN, eos_token=PRM.EOS_TOKEN, pad_token=PRM.PAD_TOKEN, unk_token=PRM.UNK_TOKEN)\n",
    "\n",
    "random.seed(0)  # Set seed for reproducibility purposes\n",
    "rnd = random.getstate()\n",
    "\n",
    "train_data, test_data = DataFrameDataset(\n",
    "    df=preprocessing.sentences,\n",
    "    fields=[\n",
    "        (PRM.SOURCE, german),\n",
    "        (PRM.TARGET, english)\n",
    "    ]\n",
    ").split(split_ratio=PRM.SPLIT_RATIO, random_state=rnd)\n",
    "\n",
    "print('Length of the training dataset: ',len(train_data))\n",
    "print('Length of the testing dataset: ',len(test_data))"
   ]
  },
  {
   "cell_type": "markdown",
   "metadata": {},
   "source": [
    "### Create the vocabulary"
   ]
  },
  {
   "cell_type": "code",
   "execution_count": 4,
   "metadata": {},
   "outputs": [],
   "source": [
    "german.build_vocab(train_data,\n",
    "                   max_size=PRM.VOCAB_LENGTH, min_freq=PRM.MIN_VOCAB_FREQ, vectors=preprocessing.DE_vec)\n",
    "english.build_vocab(train_data,\n",
    "                    max_size=PRM.VOCAB_LENGTH, min_freq=PRM.MIN_VOCAB_FREQ, vectors=preprocessing.EN_vec)\n",
    "\n",
    "# Assign default vector value for the begin and enc of sentence token\n",
    "if not special_token_initiated:\n",
    "    german.vocab.vectors[german.vocab.stoi[PRM.SOS_TOKEN]] = PRM.SOS_TOKEN_VEC\n",
    "    english.vocab.vectors[english.vocab.stoi[PRM.SOS_TOKEN]] = PRM.SOS_TOKEN_VEC\n",
    "\n",
    "    german.vocab.vectors[german.vocab.stoi[PRM.EOS_TOKEN]] = PRM.EOS_TOKEN_VEC\n",
    "    english.vocab.vectors[english.vocab.stoi[PRM.EOS_TOKEN]] = PRM.EOS_TOKEN_VEC"
   ]
  },
  {
   "cell_type": "markdown",
   "metadata": {},
   "source": [
    "### Model Architecture\n",
    "* We used the script seq2seq.py to perform the trainings with the 3 different types of embeddings."
   ]
  },
  {
   "cell_type": "code",
   "execution_count": 5,
   "metadata": {},
   "outputs": [],
   "source": [
    "class Encoder(nn.Module):\n",
    "    def __init__(self, german_field, input_size, embedding_size, hidden_size, num_layers, p):\n",
    "        super(Encoder, self).__init__()\n",
    "        self.dropout = nn.Dropout(p)\n",
    "        self.hidden_size = hidden_size\n",
    "        self.num_layers = num_layers\n",
    "\n",
    "        self.embedding = nn.Embedding(input_size, PRM.DIM_VEC).from_pretrained(torch.FloatTensor(german_field.vocab.vectors))\n",
    "        self.rnn = nn.LSTM(embedding_size, hidden_size, num_layers, dropout=p)\n",
    "\n",
    "    def forward(self, x):\n",
    "        # x shape: (seq_length, N) where N is batch size\n",
    "\n",
    "        embedding = self.dropout(self.embedding(x))\n",
    "        # embedding shape: (seq_length, N, embedding_size)\n",
    "\n",
    "        outputs, (hidden, cell) = self.rnn(embedding)\n",
    "        # outputs shape: (seq_length, N, hidden_size)\n",
    "\n",
    "        return hidden, cell\n",
    "\n",
    "\n",
    "class Decoder(nn.Module):\n",
    "    def __init__(\n",
    "        self, english_field, input_size, embedding_size, hidden_size, output_size, num_layers, p\n",
    "    ):\n",
    "        super(Decoder, self).__init__()\n",
    "        self.dropout = nn.Dropout(p)\n",
    "        self.hidden_size = hidden_size\n",
    "        self.num_layers = num_layers\n",
    "\n",
    "        self.embedding = nn.Embedding(input_size, PRM.DIM_VEC).from_pretrained(torch.FloatTensor(english_field.vocab.vectors))\n",
    "        self.rnn = nn.LSTM(embedding_size, hidden_size, num_layers, dropout=p)\n",
    "        self.fc = nn.Linear(hidden_size, output_size)\n",
    "\n",
    "    def forward(self, x, hidden, cell):\n",
    "        # x shape: (N) where N is for batch size, we want it to be (1, N), seq_length\n",
    "        # is 1 here because we are sending in a single word and not a sentence\n",
    "        x = x.unsqueeze(0)\n",
    "\n",
    "        embedding = self.dropout(self.embedding(x))\n",
    "        # embedding shape: (1, N, embedding_size)\n",
    "\n",
    "        outputs, (hidden, cell) = self.rnn(embedding, (hidden, cell))\n",
    "        # outputs shape: (1, N, hidden_size)\n",
    "\n",
    "        predictions = self.fc(outputs)\n",
    "\n",
    "        # predictions shape: (1, N, length_target_vocabulary) to send it to\n",
    "        # loss function we want it to be (N, length_target_vocabulary) so we're\n",
    "        # just gonna remove the first dim\n",
    "        predictions = predictions.squeeze(0)\n",
    "\n",
    "        return predictions, hidden, cell\n",
    "\n",
    "\n",
    "class Seq2Seq(nn.Module):\n",
    "    def __init__(self, encoder, decoder):\n",
    "        super(Seq2Seq, self).__init__()\n",
    "        self.encoder = encoder\n",
    "        self.decoder = decoder\n",
    "\n",
    "    def forward(self, source, target, teacher_force_ratio=0.5):\n",
    "        PRM.BATCH_SIZE = source.shape[1]\n",
    "        target_len = target.shape[0]\n",
    "        target_vocab_size = len(english.vocab)\n",
    "\n",
    "        outputs = torch.zeros(target_len, PRM.BATCH_SIZE, target_vocab_size).to(device)\n",
    "\n",
    "        hidden, cell = self.encoder(source)\n",
    "\n",
    "        # Grab the first input to the Decoder which will be <SOS> token\n",
    "        x = target[0]\n",
    "\n",
    "        for t in range(1, target_len):\n",
    "            # Use previous hidden, cell as context from encoder at start\n",
    "            output, hidden, cell = self.decoder(x, hidden, cell)\n",
    "\n",
    "            # Store next output prediction\n",
    "            outputs[t] = output\n",
    "\n",
    "            # Get the best word the Decoder predicted (index in the vocabulary)\n",
    "            best_guess = output.argmax(1)\n",
    "\n",
    "            # With probability of teacher_force_ratio we take the actual next word\n",
    "            # otherwise we take the word that the Decoder predicted it to be.\n",
    "            # Teacher Forcing is used so that the model gets used to seeing\n",
    "            # similar inputs at training and testing time, if teacher forcing is 1\n",
    "            # then inputs at test time might be completely different than what the\n",
    "            # network is used to. This was a long comment.\n",
    "            x = target[t] if random.random() < teacher_force_ratio else best_guess\n",
    "\n",
    "        return outputs"
   ]
  },
  {
   "cell_type": "markdown",
   "metadata": {},
   "source": [
    "### Load the model and some data obtained during the training phase in order to perform an analysis."
   ]
  },
  {
   "cell_type": "code",
   "execution_count": 6,
   "metadata": {},
   "outputs": [
    {
     "name": "stdout",
     "output_type": "stream",
     "text": [
      "cuda\n",
      "=> Loading checkpoint\n",
      "Wenn etwas Alkohol auf der Haut verbleibt  können Sie ein brennendes Gefühl verspüren\n",
      "if a bit of alcohol is left on the skin  you may get a stinging sensation \n"
     ]
    }
   ],
   "source": [
    "# Model hyperparameters\n",
    "load_model = True\n",
    "device = torch.device(\"cuda\" if torch.cuda.is_available() else \"cpu\")\n",
    "print(device)\n",
    "input_size = len(german.vocab)\n",
    "output_size = len(english.vocab)  # The input size has been defined implicitly by the embedding layers\n",
    "embedding_size = PRM.DIM_VEC\n",
    "hidden_size = PRM.HIDDEN_SIZE  # Needs to be the same for both RNN's\n",
    "num_layers = PRM.NUM_LAYERS\n",
    "enc_dropout = PRM.ENC_DROPOUT\n",
    "dec_dropout = PRM.DEC_DROPOUT\n",
    "\n",
    "# Tensorboard to get nice loss plot\n",
    "writer = SummaryWriter(f\"runs/loss_plot\")\n",
    "step = 0\n",
    "\n",
    "train_iterator, test_iterator = BucketIterator.splits(\n",
    "    (train_data, test_data),\n",
    "    batch_size=PRM.BATCH_SIZE,\n",
    "    sort_within_batch=True,\n",
    "    sort_key=lambda x: len(getattr(x, PRM.SOURCE)),  # To save computation resourcing with the padding\n",
    "                                                    # (have batch with similar sentences lenghts)\n",
    "    device=device,\n",
    ")\n",
    "\n",
    "encoder_net = Encoder(\n",
    "    german, input_size, embedding_size, hidden_size, num_layers, enc_dropout\n",
    ").to(device)\n",
    "\n",
    "decoder_net = Decoder(\n",
    "    english,\n",
    "    input_size,\n",
    "    embedding_size,\n",
    "    hidden_size,\n",
    "    output_size,\n",
    "    num_layers,\n",
    "    dec_dropout,\n",
    ").to(device)\n",
    "\n",
    "model = Seq2Seq(encoder_net, decoder_net).to(device)\n",
    "optimizer = optim.Adam(model.parameters(), lr=PRM.LEARNING_RATE)\n",
    "\n",
    "pad_idx = english.vocab.stoi[PRM.PAD_TOKEN]\n",
    "criterion = nn.CrossEntropyLoss(ignore_index=pad_idx)\n",
    "\n",
    "# pickle save system\n",
    "loss_history = []\n",
    "translated_sentence_history = []\n",
    "\n",
    "if load_model:\n",
    "    load_checkpoint(torch.load(f\"results/{choose_embeddings}/my_checkpoint.pth.tar\"), model, optimizer)\n",
    "    with open(f'results/{choose_embeddings}/loss_history.pkl', 'rb') as f:\n",
    "        loss_history = pickle.load(f)\n",
    "    with open(f'results/{choose_embeddings}/translated_sentence_history.pkl', 'rb') as f:\n",
    "        translated_sentence_history = pickle.load(f)\n",
    "\n",
    "sentence = clean_sentence(\"Wenn etwas Alkohol auf der Haut verbleibt  können Sie ein brennendes Gefühl verspüren\",\n",
    "                          lower_sentence=DE_lower,\n",
    "                          bytes_representation_for_DE_word=preprocessing.bytes_representation_for_DE_word)\n",
    "print(sentence)\n",
    "print(clean_sentence(\"If a bit of alcohol is left on the skin  you may get a stinging sensation \",\n",
    "                     lower_sentence=EN_lower))"
   ]
  },
  {
   "cell_type": "markdown",
   "metadata": {},
   "source": [
    "### Loss plot data\n",
    "* Our training dataset have a size of 45306. We trained each model over 50 epoch with a batch size of 32.\n",
    "* We computed the loss during the 3 training over the 50 epochs and for each batch which means about 70790 loss data for each training."
   ]
  },
  {
   "cell_type": "code",
   "execution_count": null,
   "metadata": {},
   "outputs": [],
   "source": [
    "import analysis as analysis\n",
    "analysis.plot_loss_history('fasttext')\n",
    "analysis.plot_loss_history('glove')\n",
    "analysis.plot_loss_history('word2vec')"
   ]
  },
  {
   "attachments": {
    "9194f81b-15e4-45ba-85d9-fcfe90faafab.png": {
     "image/png": "[encoded data removed]"
    },
    "d31df3f1-4807-40e7-a0fe-4b0093ea438d.png": {
     "image/png": "[encoded data removed]"
    },
    "f8e7ed50-55d4-450d-b90e-83ed7d1e9b95.png": {
     "image/png": "[encoded data removed]"
    }
   },
   "cell_type": "markdown",
   "metadata": {},
   "source": [
    "![loss_plot.png](attachment:f8e7ed50-55d4-450d-b90e-83ed7d1e9b95.png)![loss_plot.png](attachment:d31df3f1-4807-40e7-a0fe-4b0093ea438d.png)![loss_plot.png](attachment:9194f81b-15e4-45ba-85d9-fcfe90faafab.png)"
   ]
  },
  {
   "cell_type": "markdown",
   "metadata": {},
   "source": [
    "### Translations comparisons\n",
    "\n",
    "* We use a sentence during the training phase in order to see the evolution of the translations after each epoch.\n",
    "* Original sentence: Wenn etwas Alkohol auf der Haut verbleibt  können Sie ein brennendes Gefühl verspüren\n",
    "* Expected translation: If a bit of alcohol is left on the skin  you may get a stinging sensation"
   ]
  },
  {
   "cell_type": "code",
   "execution_count": 8,
   "metadata": {},
   "outputs": [
    {
     "name": "stdout",
     "output_type": "stream",
     "text": [
      "Fasttext translations:\n",
      "\n",
      "Epoch  1 :  ['if', 'you', 'are', '<unk>', 'to', '<unk>', '<unk>', '<unk>', '<unk>', '<unk>', '</e>']\n",
      "Epoch  2 :  ['if', 'you', 'have', 'any', '<unk>', '<unk>', '<unk>', '<unk>', '<unk>', '<unk>', '<unk>', '</e>']\n",
      "Epoch  3 :  ['if', 'you', '<unk>', '<unk>', '<unk>', 'or', '<unk>', '<unk>', '<unk>', '<unk>', '</e>']\n",
      "Epoch  4 :  ['if', 'you', '<unk>', '<unk>', '<unk>', '<unk>', '<unk>', '<unk>', '<unk>', '<unk>', '</e>']\n",
      "Epoch  5 :  ['if', 'you', '<unk>', '<unk>', '<unk>', '<unk>', '<unk>', '<unk>', '<unk>', '<unk>', '</e>']\n",
      "Epoch  6 :  ['if', 'any', '<unk>', '<unk>', 'or', '<unk>', 'the', '<unk>', '<unk>', '<unk>', '</e>']\n",
      "Epoch  7 :  ['if', 'the', '<unk>', '<unk>', 'your', 'skin', 'or', '<unk>', '<unk>', '</e>']\n",
      "Epoch  8 :  ['if', 'your', '<unk>', '<unk>', 'your', '<unk>', 'or', '<unk>', '<unk>', '</e>']\n",
      "Epoch  9 :  ['if', 'the', '<unk>', '<unk>', 'your', '<unk>', '<unk>', '<unk>', '<unk>', '<unk>', '</e>']\n",
      "Epoch  10 :  ['if', 'the', '<unk>', '<unk>', 'the', 'skin', 'site', '<unk>', '<unk>', '<unk>', '</e>']\n",
      "Epoch  11 :  ['if', 'there', '<unk>', 'the', 'skin', 'at', 'the', 'injection', 'site', '<unk>', '<unk>', '</e>']\n",
      "Epoch  12 :  ['if', 'there', '<unk>', 'the', 'skin', 'is', '<unk>', '<unk>', '<unk>', '</e>']\n",
      "Epoch  13 :  ['if', 'the', '<unk>', 'the', 'injection', 'site', 'your', '<unk>', '<unk>', '<unk>', '<unk>', '<unk>', '</e>']\n",
      "Epoch  14 :  ['if', 'there', '<unk>', 'the', 'skin', 'may', '<unk>', '<unk>', '<unk>', '<unk>', '</e>']\n",
      "Epoch  15 :  ['if', 'this', '<unk>', '<unk>', 'on', 'your', 'injection', 'may', '<unk>', 'a', '<unk>', '</e>']\n",
      "Epoch  16 :  ['if', 'there', '<unk>', '<unk>', 'on', 'your', 'injection', 'may', '<unk>', '<unk>', '<unk>', '</e>']\n",
      "Epoch  17 :  ['if', 'there', '<unk>', 'the', 'the', 'skin', 'may', '<unk>', '<unk>', '<unk>', '</e>']\n",
      "Epoch  18 :  ['if', 'there', '<unk>', 'the', 'skin', 'site', '<unk>', '<unk>', '<unk>', '<unk>', '</e>']\n",
      "Epoch  19 :  ['if', 'there', '<unk>', '<unk>', 'of', 'your', 'skin', 'may', 'be', '<unk>', '<unk>', '<unk>', '</e>']\n",
      "Epoch  20 :  ['if', 'there', '<unk>', '<unk>', 'the', 'urine', 'may', '<unk>', 'a', '<unk>', '<unk>', '</e>']\n",
      "Epoch  21 :  ['if', 'there', 'occurs', 'the', 'skin', 'on', 'your', 'skin', '<unk>', '<unk>', 'a', '<unk>', '<unk>', '</e>']\n",
      "Epoch  22 :  ['if', 'there', 'appears', 'to', 'give', 'yourself', 'site', 'may', 'be', 'a', '<unk>', '<unk>', '</e>']\n",
      "Epoch  23 :  ['if', 'there', 'is', 'blood', 'press', 'your', 'skin', 'may', '<unk>', 'a', '<unk>', '<unk>', '</e>']\n",
      "Epoch  24 :  ['if', 'there', 'is', 'blood', 'press', 'the', 'skin', 'the', 'a', '<unk>', '<unk>', '</e>']\n",
      "Epoch  25 :  ['if', 'there', 'is', 'blood', 'press', 'the', 'skin', 'may', 'inject', 'a', 'small', '<unk>', '</e>']\n",
      "Epoch  26 :  ['if', 'there', 'is', 'blood', 'press', 'the', 'skin', 'may', '<unk>', 'a', '<unk>', '<unk>', '</e>']\n",
      "Epoch  27 :  ['if', 'there', 'is', '<unk>', 'to', 'the', 'skin', 'may', '<unk>', 'a', '<unk>', '<unk>', '</e>']\n",
      "Epoch  28 :  ['if', 'there', 'is', '<unk>', 'to', 'your', 'skin', 'site', 'a', '<unk>', '<unk>', '</e>']\n",
      "Epoch  29 :  ['if', 'there', 'is', 'blood', '<unk>', 'the', 'skin', 'may', '<unk>', 'a', '<unk>', '<unk>', '</e>']\n",
      "Epoch  30 :  ['if', 'there', 'does', 'these', 'press', 'the', 'skin', 'site', 'a', '<unk>', '<unk>', '</e>']\n",
      "Epoch  31 :  ['if', 'there', 'affect', 'these', 'skin', 'the', 'injection', 'site', 'a', '<unk>', '<unk>', '</e>']\n",
      "Epoch  32 :  ['if', 'there', 'is', 'given', 'to', 'your', 'skin', 'that', 'a', '<unk>', '<unk>', '<unk>', '</e>']\n",
      "Epoch  33 :  ['if', 'there', 'is', 'an', '<unk>', 'of', 'the', 'skin', 'to', 'a', '<unk>', '<unk>', '</e>']\n",
      "Epoch  34 :  ['if', 'there', 'is', '<unk>', 'of', 'the', 'skin', 'it', 'may', 'inject', 'a', '<unk>', '<unk>', '</e>']\n",
      "Epoch  35 :  ['if', 'there', 'is', 'blood', 'press', 'into', 'your', 'skin', '<unk>', '<unk>', '<unk>', '<unk>', '</e>']\n",
      "Epoch  36 :  ['if', 'there', 'is', '<unk>', 'you', 'your', 'eyes', 'when', 'a', '<unk>', 'a', '<unk>', '<unk>', '</e>']\n",
      "Epoch  37 :  ['if', 'the', 'condition', 'you', 'could', 'through', 'the', 'skin', 'to', 'a', '<unk>', '<unk>', '<unk>', '</e>']\n",
      "Epoch  38 :  ['if', 'at', 'condition', 'that', 'your', 'injection', 'you', 'may', 'inject', 'a', '<unk>', '<unk>', '</e>']\n",
      "Epoch  39 :  ['if', 'there', 'is', 'given', 'to', 'the', 'skin', 'site', 'of', 'a', '<unk>', '<unk>', '<unk>', '<unk>', '</e>']\n",
      "Epoch  40 :  ['if', 'there', 'is', 'injected', 'of', 'your', 'skin', 'it', 'may', 'be', 'a', '<unk>', '<unk>', '</e>']\n",
      "Epoch  41 :  ['if', 'there', 'is', 'injected', 'that', 'your', 'skin', 'to', 'a', 'a', '<unk>', '<unk>', '</e>']\n",
      "Epoch  42 :  ['if', 'there', 'is', '<unk>', 'to', 'using', 'the', 'injection', 'site', 'a', 'a', '<unk>', '<unk>', '</e>']\n",
      "Epoch  43 :  ['if', 'there', 'is', 'skin', 'to', 'causes', 'skin', 'after', 'a', '<unk>', '<unk>', '</e>']\n",
      "Epoch  44 :  ['if', 'there', 'is', 'blood', '<unk>', 'your', 'skin', 'may', 'make', 'a', '<unk>', '<unk>', '</e>']\n",
      "Epoch  45 :  ['if', 'there', 'is', 'skin', '<unk>', 'causes', 'the', 'needle', 'may', '<unk>', 'a', '<unk>', '</e>']\n",
      "Epoch  46 :  ['if', 'there', 'is', 'an', '<unk>', 'of', 'your', 'skin', 'may', 'go', 'to', 'a', 'clean', '<unk>', '</e>']\n",
      "Epoch  47 :  ['if', 'there', 'is', '<unk>', 'to', 'through', 'your', 'skin', '<unk>', 'a', '<unk>', '<unk>', '</e>']\n",
      "Epoch  48 :  ['if', 'there', 'occurs', 'the', 'injection', 'of', 'the', 'skin', 'may', '<unk>', 'a', '<unk>', '<unk>', '</e>']\n",
      "Epoch  49 :  ['if', 'there', 'is', 'an', 'reaction', 'that', 'the', 'injection', 'site', '<unk>', 'a', '<unk>', '<unk>', '</e>']\n",
      "Epoch  50 :  ['if', 'there', 'solution', 'you', 'may', 'contact', 'the', 'injection', 'site', 'a', 'a', '<unk>', '</e>']\n",
      "\n",
      "Glove translations:\n",
      "\n",
      "Epoch  1 :  ['if', 'you', 'have', '<unk>', 'to', 'your', 'doctor', 'or', '<unk>', '<unk>', '</e>']\n",
      "Epoch  2 :  ['if', 'you', 'have', '<unk>', '<unk>', '<unk>', '<unk>', '<unk>', '<unk>', '<unk>', '<unk>', '<unk>', '<unk>', '</e>']\n",
      "Epoch  3 :  ['if', 'you', '<unk>', 'the', 'skin', 'or', '<unk>', 'the', 'skin', '</e>']\n",
      "Epoch  4 :  ['if', 'you', 'are', '<unk>', '<unk>', 'the', 'skin', 'or', '<unk>', '<unk>', '<unk>', '<unk>', '</e>']\n",
      "Epoch  5 :  ['if', 'the', 'skin', 'is', '<unk>', '<unk>', '<unk>', '<unk>', '<unk>', '<unk>', '</e>']\n",
      "Epoch  6 :  ['if', 'there', 'is', '<unk>', '<unk>', '<unk>', '<unk>', '<unk>', '<unk>', '<unk>', '<unk>', '</e>']\n",
      "Epoch  7 :  ['if', 'the', 'skin', 'is', '<unk>', '<unk>', '<unk>', '<unk>', '<unk>', '<unk>', '</e>']\n",
      "Epoch  8 :  ['if', 'you', 'are', 'allergic', 'to', '<unk>', '<unk>', '<unk>', '<unk>', '<unk>', '<unk>', '<unk>', '</e>']\n",
      "Epoch  9 :  ['if', 'there', 'is', '<unk>', '<unk>', '<unk>', '<unk>', '<unk>', '<unk>', '<unk>', '<unk>', '</e>']\n",
      "Epoch  10 :  ['if', 'there', 'is', '<unk>', '<unk>', 'the', 'skin', '<unk>', '<unk>', '<unk>', '<unk>', '<unk>', '</e>']\n",
      "Epoch  11 :  ['if', 'there', 'drop', 'the', 'liquid', 'is', '<unk>', '<unk>', '<unk>', '<unk>', '<unk>', '<unk>', '</e>']\n",
      "Epoch  12 :  ['if', 'there', 'drop', 'the', 'the', 'skin', '<unk>', '<unk>', '<unk>', '<unk>', '<unk>', '<unk>', '</e>']\n",
      "Epoch  13 :  ['if', 'there', 'drop', 'the', 'skin', '<unk>', '<unk>', '<unk>', '<unk>', '<unk>', '<unk>', '<unk>', '<unk>', '</e>']\n",
      "Epoch  14 :  ['if', 'you', '<unk>', 'press', 'of', 'the', 'skin', 'you', 'you', 'you', 'you', 'you', '<unk>', 'a', '<unk>', '</e>']\n",
      "Epoch  15 :  ['if', 'there', 'are', 'allergic', 'reaction', '<unk>', 'your', '<unk>', '<unk>', '<unk>', '<unk>', '</e>']\n",
      "Epoch  16 :  ['if', 'there', 'is', '<unk>', 'skin', 'reaction', '<unk>', 'a', '<unk>', '<unk>', '<unk>', '</e>']\n",
      "Epoch  17 :  ['if', 'there', 'occurs', '<unk>', 'the', 'skin', 'you', '<unk>', '<unk>', 'a', '<unk>', '<unk>', '</e>']\n",
      "Epoch  18 :  ['if', 'there', 'are', 'exposed', 'exposed', 'exposed', 'the', 'skin', 'as', '<unk>', '<unk>', '</e>']\n",
      "Epoch  19 :  ['if', 'there', 'on', 'the', 'skin', 'it', 'the', '<unk>', '<unk>', '<unk>', '<unk>', '<unk>', '<unk>', '</e>']\n",
      "Epoch  20 :  ['if', 'there', 'drop', 'it', 'of', 'the', 'skin', '<unk>', '<unk>', '<unk>', '<unk>', '<unk>', '</e>']\n",
      "Epoch  21 :  ['if', 'there', 'on', 'it', 'it', '<unk>', 'on', 'your', 'skin', '<unk>', '<unk>', '<unk>', '</e>']\n",
      "Epoch  22 :  ['if', 'there', 'on', 'it', 'it', 'the', 'skin', '<unk>', '<unk>', '<unk>', '<unk>', '<unk>', '</e>']\n",
      "Epoch  23 :  ['if', 'there', 'on', 'the', 'skin', 'the', 'skin', 'may', '<unk>', 'a', '<unk>', '<unk>', '</e>']\n",
      "Epoch  24 :  ['if', 'there', 'on', 'the', 'skin', '<unk>', '<unk>', '<unk>', '<unk>', '<unk>', '<unk>', '<unk>', '<unk>', '</e>']\n",
      "Epoch  25 :  ['if', 'there', 'on', 'it', 'it', '<unk>', 'your', 'skin', '<unk>', '<unk>', '<unk>', 'a', '<unk>', '<unk>', '</e>']\n",
      "Epoch  26 :  ['if', 'a', 'drop', 'of', 'liquid', 'it', 'may', '<unk>', 'out', '<unk>', '<unk>', '</e>']\n",
      "Epoch  27 :  ['if', 'there', '<unk>', 'the', 'liquid', 'your', 'skin', 'may', '<unk>', 'a', '<unk>', '</e>']\n",
      "Epoch  28 :  ['if', 'there', 'is', '<unk>', 'of', 'the', 'skin', 'you', 'may', '<unk>', 'it', '<unk>', '<unk>', '</e>']\n",
      "Epoch  29 :  ['if', 'there', 'does', 'see', 'the', 'your', 'skin', '<unk>', '<unk>', '<unk>', 'you', '</e>']\n",
      "Epoch  30 :  ['if', 'there', 'appears', 'it', 'the', '<unk>', '<unk>', 'your', 'skin', '<unk>', '</e>']\n",
      "Epoch  31 :  ['if', 'there', 'on', 'the', 'body', 'it', 'you', 'may', '<unk>', 'a', '<unk>', '</e>']\n",
      "Epoch  32 :  ['if', 'you', 'does', 'the', 'liquid', 'on', 'the', 'skin', 'as', '<unk>', '<unk>', '<unk>', '</e>']\n",
      "Epoch  33 :  ['if', 'there', 'are', 'exposed', 'of', 'the', 'skin', 'it', '<unk>', '<unk>', 'to', '<unk>', '<unk>', '</e>']\n",
      "Epoch  34 :  ['if', 'there', 'are', 'difficulty', 'of', 'the', '<unk>', 'on', 'the', 'skin', '<unk>', '<unk>', '<unk>', '</e>']\n",
      "Epoch  35 :  ['if', 'there', 'drop', 'it', '<unk>', 'the', 'skin', '<unk>', 'you', 'have', 'a', '<unk>', '<unk>', '</e>']\n",
      "Epoch  36 :  ['if', 'you', 'on', 'it', 'of', 'the', 'skin', 'it', 'may', '<unk>', 'to', '<unk>', '<unk>', '</e>']\n",
      "Epoch  37 :  ['if', 'there', 'is', '<unk>', 'to', 'the', 'skin', 'it', 'may', '<unk>', 'a', '<unk>', '<unk>', '</e>']\n",
      "Epoch  38 :  ['if', 'there', 'appears', 'it', '<unk>', 'the', 'skin', 'it', 'will', '<unk>', 'a', '<unk>', '<unk>', '</e>']\n",
      "Epoch  39 :  ['if', 'there', '<unk>', '<unk>', 'side', '<unk>', '<unk>', 'it', 'may', '<unk>', 'a', '<unk>', '</e>']\n",
      "Epoch  40 :  ['if', 'there', 'appears', 'it', 'of', 'the', 'skin', '<unk>', '<unk>', '<unk>', 'a', '<unk>', '<unk>', '</e>']\n",
      "Epoch  41 :  ['if', 'may', 'occur', 'when', 'the', 'skin', '<unk>', '<unk>', '<unk>', '</e>']\n",
      "Epoch  42 :  ['if', 'there', 'is', 'do', 'not', 'use', 'the', 'skin', 'to', '<unk>', '<unk>', '</e>']\n",
      "Epoch  43 :  ['if', 'there', 'appears', 'it', 'it', 'are', '<unk>', 'or', '<unk>', 'under', 'the', 'skin', '</e>']\n",
      "Epoch  44 :  ['if', 'there', 'is', 'an', 'of', '<unk>', 'it', 'it', 'will', '<unk>', 'a', '<unk>', '</e>']\n",
      "Epoch  45 :  ['if', 'there', 'see', 'it', 'it', '<unk>', 'it', '<unk>', 'the', '<unk>', '</e>']\n",
      "Epoch  46 :  ['if', 'there', 'drop', 'the', 'skin', '<unk>', '<unk>', '<unk>', 'a', '<unk>', '</e>']\n",
      "Epoch  47 :  ['if', 'there', 'change', 'of', 'the', 'skin', 'it', 'may', '<unk>', 'a', '<unk>', '</e>']\n",
      "Epoch  48 :  ['if', 'a', 'on', 'the', 'skin', 'after', 'an', '<unk>', '<unk>', '<unk>', 'may', 'be', '<unk>', '</e>']\n",
      "Epoch  49 :  ['if', 'there', 'is', 'an', '<unk>', 'skin', '<unk>', 'you', 'may', '<unk>', 'up', '<unk>', '<unk>', '</e>']\n",
      "Epoch  50 :  ['if', 'there', 'is', 'the', 'skin', 'wash', '<unk>', 'a', '<unk>', '<unk>', 'to', 'a', '<unk>', '</e>']\n",
      "\n",
      "Word2vec translations:\n",
      "\n",
      "Epoch  1 :  ['<unk>', '<unk>', '<unk>', '<unk>', '<unk>', '<unk>', '<unk>', '<unk>', '<unk>', '<unk>', '<unk>', '<unk>', '<unk>', '<unk>', '<unk>', '<unk>', '<unk>', '<unk>', '<unk>', '<unk>']\n",
      "Epoch  2 :  ['<unk>', '<unk>', '<unk>', '<unk>', '<unk>', '<unk>', '<unk>', '<unk>', '<unk>', '<unk>', '<unk>', '<unk>', '<unk>', '<unk>', '<unk>', '<unk>', '<unk>', '<unk>', '<unk>', '<unk>']\n",
      "Epoch  3 :  ['<unk>', '<unk>', '<unk>', '<unk>', '<unk>', '<unk>', '<unk>', '<unk>', '<unk>', '<unk>', '<unk>', '<unk>', '<unk>', '<unk>', '<unk>', '<unk>', '<unk>', '<unk>', '<unk>', '<unk>']\n",
      "Epoch  4 :  ['<unk>', '<unk>', '<unk>', '<unk>', '<unk>', '<unk>', '<unk>', '<unk>', '<unk>', '<unk>', '<unk>', '<unk>', '<unk>', '<unk>', '<unk>', '<unk>', '<unk>', '<unk>', '<unk>', '<unk>']\n",
      "Epoch  5 :  ['<unk>', '<unk>', '<unk>', '<unk>', '<unk>', '<unk>', '<unk>', '<unk>', '<unk>', '<unk>', '<unk>', '<unk>', '<unk>', '<unk>', '<unk>', '<unk>', '<unk>', '<unk>', '<unk>', '<unk>']\n",
      "Epoch  6 :  ['<unk>', '<unk>', '<unk>', '<unk>', '<unk>', '<unk>', '<unk>', '<unk>', '<unk>', '<unk>', '<unk>', '<unk>', '<unk>', '<unk>', '<unk>', '<unk>', '<unk>', '<unk>', '<unk>', '<unk>']\n",
      "Epoch  7 :  ['<unk>', '<unk>', '<unk>', '<unk>', '<unk>', '<unk>', '<unk>', '<unk>', '<unk>', '<unk>', '<unk>', '<unk>', '<unk>', '<unk>', '<unk>', '<unk>', '<unk>', '<unk>', '<unk>', '<unk>']\n",
      "Epoch  8 :  ['<unk>', '<unk>', '<unk>', '<unk>', '<unk>', '<unk>', '<unk>', '<unk>', '<unk>', '<unk>', '<unk>', '<unk>', '<unk>', '<unk>', '<unk>', '<unk>', '<unk>', '<unk>', '<unk>', '<unk>']\n",
      "Epoch  9 :  ['<unk>', '<unk>', '<unk>', '<unk>', '<unk>', '<unk>', '<unk>', '<unk>', '<unk>', '<unk>', '<unk>', '<unk>', '<unk>', '<unk>', '<unk>', '<unk>', '<unk>', '<unk>', '<unk>', '<unk>']\n",
      "Epoch  10 :  ['<unk>', '<unk>', '<unk>', '<unk>', '<unk>', '<unk>', '<unk>', '<unk>', '<unk>', '<unk>', '<unk>', '<unk>', '<unk>', '<unk>', '<unk>', '<unk>', '<unk>', '<unk>', '<unk>', '<unk>']\n",
      "Epoch  11 :  ['<unk>', '<unk>', '<unk>', '<unk>', '<unk>', '<unk>', '<unk>', '<unk>', '<unk>', '<unk>', '<unk>', '<unk>', '<unk>', '<unk>', '<unk>', '<unk>', '<unk>', '<unk>', '<unk>', '<unk>']\n",
      "Epoch  12 :  ['<unk>', '<unk>', '<unk>', '<unk>', '<unk>', '<unk>', '<unk>', '<unk>', '<unk>', '<unk>', '<unk>', '<unk>', '<unk>', '<unk>', '<unk>', '<unk>', '<unk>', '<unk>', '<unk>', '<unk>']\n",
      "Epoch  13 :  ['<unk>', '<unk>', '<unk>', '<unk>', '<unk>', '<unk>', '<unk>', '<unk>', '<unk>', '<unk>', '<unk>', '<unk>', '<unk>', '<unk>', '<unk>', '<unk>', '<unk>', '<unk>', '<unk>', '<unk>']\n",
      "Epoch  14 :  ['sodium', 'chloride', '<unk>', 'potassium', 'chloride', 'potassium', 'chloride', 'potassium', 'chloride', 'potassium', 'chloride', 'potassium', 'chloride', 'potassium', 'chloride', 'potassium', 'chloride', 'potassium', 'chloride', '<unk>']\n",
      "Epoch  15 :  ['<unk>', '<unk>', '<unk>', '<unk>', '<unk>', '<unk>', '<unk>', '<unk>', '<unk>', '<unk>', '<unk>', '<unk>', '<unk>', '<unk>', '<unk>', '<unk>', '<unk>', '<unk>', '<unk>', '<unk>']\n",
      "Epoch  16 :  ['<unk>', '<unk>', '<unk>', '<unk>', '<unk>', '<unk>', '<unk>', '<unk>', '<unk>', '<unk>', '<unk>', '<unk>', '<unk>', '<unk>', '<unk>', '<unk>', '<unk>', '<unk>', '<unk>', '<unk>']\n",
      "Epoch  17 :  ['<unk>', '<unk>', '<unk>', '<unk>', '<unk>', '<unk>', '<unk>', '<unk>', '<unk>', '<unk>', '<unk>', '<unk>', '<unk>', '<unk>', '<unk>', '<unk>', '<unk>', '<unk>', '<unk>', '<unk>']\n",
      "Epoch  18 :  ['<unk>', '<unk>', '<unk>', '<unk>', '<unk>', '<unk>', '<unk>', '<unk>', '<unk>', '<unk>', '<unk>', '<unk>', '<unk>', '<unk>', '<unk>', '<unk>', '<unk>', '<unk>', '<unk>', '<unk>']\n",
      "Epoch  19 :  ['<unk>', '<unk>', '<unk>', '<unk>', '<unk>', '<unk>', '<unk>', '<unk>', '<unk>', '<unk>', '<unk>', '<unk>', '<unk>', '<unk>', '<unk>', '<unk>', '<unk>', '<unk>', '<unk>', '<unk>']\n",
      "Epoch  20 :  ['<unk>', '<unk>', '<unk>', '<unk>', '<unk>', '<unk>', '<unk>', '<unk>', '<unk>', '<unk>', '<unk>', '<unk>', '<unk>', '<unk>', '<unk>', '<unk>', '<unk>', '<unk>', '<unk>', '<unk>']\n",
      "Epoch  21 :  ['<unk>', '<unk>', '<unk>', '<unk>', '<unk>', '<unk>', '<unk>', '<unk>', '<unk>', '<unk>', '<unk>', '<unk>', '<unk>', '<unk>', '<unk>', '<unk>', '<unk>', '<unk>', '<unk>', '<unk>']\n",
      "Epoch  22 :  ['<unk>', '<unk>', '<unk>', '<unk>', '<unk>', '<unk>', '<unk>', '<unk>', '<unk>', '<unk>', '<unk>', '<unk>', '<unk>', '<unk>', '<unk>', '<unk>', '<unk>', '<unk>', '<unk>', '<unk>']\n",
      "Epoch  23 :  ['<unk>', '<unk>', '<unk>', '<unk>', '<unk>', '<unk>', '<unk>', '<unk>', '<unk>', '<unk>', '<unk>', '<unk>', '<unk>', '<unk>', '<unk>', '<unk>', '<unk>', '<unk>', '<unk>', '<unk>']\n",
      "Epoch  24 :  ['<unk>', '<unk>', '<unk>', '<unk>', '<unk>', '<unk>', '<unk>', '<unk>', '<unk>', '<unk>', '<unk>', '<unk>', '<unk>', '<unk>', '<unk>', '<unk>', '<unk>', '<unk>', '<unk>', '<unk>']\n",
      "Epoch  25 :  ['<unk>', '<unk>', '<unk>', '<unk>', '<unk>', '<unk>', '<unk>', '<unk>', '<unk>', '<unk>', '<unk>', '<unk>', '<unk>', '<unk>', '<unk>', '<unk>', '<unk>', '<unk>', '<unk>', '<unk>']\n",
      "Epoch  26 :  ['sodium', 'acetate', '<unk>', 'potassium', 'chloride', 'calcium', 'chloride', 'calcium', '<unk>', 'calcium', 'chloride', 'calcium', '<unk>', '<unk>', '<unk>', 'sodium', '<unk>', '<unk>', 'sodium', '<unk>']\n",
      "Epoch  27 :  ['<unk>', '<unk>', '<unk>', '<unk>', '<unk>', '<unk>', '<unk>', '<unk>', '<unk>', '<unk>', '<unk>', '<unk>', '<unk>', '<unk>', '<unk>', '<unk>', '<unk>', '<unk>', '<unk>', '<unk>']\n",
      "Epoch  28 :  ['<unk>', '<unk>', '<unk>', '<unk>', '<unk>', '<unk>', '<unk>', '<unk>', '<unk>', '<unk>', '<unk>', '<unk>', '<unk>', '<unk>', '<unk>', '<unk>', '<unk>', '<unk>', '<unk>', '<unk>']\n",
      "Epoch  29 :  ['<unk>', '<unk>', '<unk>', '<unk>', '<unk>', '<unk>', '<unk>', '<unk>', '<unk>', '<unk>', '<unk>', '<unk>', '<unk>', '<unk>', '<unk>', '<unk>', '<unk>', '<unk>', '<unk>', '<unk>']\n",
      "Epoch  30 :  ['<unk>', '<unk>', '<unk>', '<unk>', '<unk>', '<unk>', '<unk>', '<unk>', '<unk>', '<unk>', '<unk>', '<unk>', '<unk>', '<unk>', '<unk>', '<unk>', '<unk>', '<unk>', '<unk>', '<unk>']\n",
      "Epoch  31 :  ['<unk>', '<unk>', '<unk>', '<unk>', '<unk>', '<unk>', '<unk>', '<unk>', '<unk>', '<unk>', '<unk>', '<unk>', '<unk>', '<unk>', '<unk>', '<unk>', '<unk>', '<unk>', '<unk>', '<unk>']\n",
      "Epoch  32 :  ['<unk>', '<unk>', '<unk>', '<unk>', '<unk>', '<unk>', '<unk>', '<unk>', '<unk>', '<unk>', '<unk>', '<unk>', '<unk>', '<unk>', '<unk>', '<unk>', '<unk>', '<unk>', '<unk>', '<unk>']\n",
      "Epoch  33 :  ['<unk>', '<unk>', '<unk>', '<unk>', '<unk>', '<unk>', '<unk>', '<unk>', '<unk>', '<unk>', '<unk>', '<unk>', '<unk>', '<unk>', '<unk>', '<unk>', '<unk>', '<unk>', '<unk>', '<unk>']\n",
      "Epoch  34 :  ['<unk>', '<unk>', '<unk>', '<unk>', '<unk>', '<unk>', '<unk>', '<unk>', '<unk>', '<unk>', '<unk>', '<unk>', '<unk>', '<unk>', '<unk>', '<unk>', '<unk>', '<unk>', '<unk>', '<unk>']\n",
      "Epoch  35 :  ['<unk>', '<unk>', '<unk>', '<unk>', '<unk>', '<unk>', '<unk>', '<unk>', '<unk>', '<unk>', '<unk>', '<unk>', '<unk>', '<unk>', '<unk>', '<unk>', '<unk>', '<unk>', '<unk>', '<unk>']\n",
      "Epoch  36 :  ['sodium', 'acetate', '<unk>', 'potassium', '<unk>', '<unk>', '<unk>', '<unk>', '<unk>', '<unk>', '<unk>', '<unk>', '<unk>', '<unk>', '<unk>', '<unk>', '<unk>', '<unk>', '<unk>', '<unk>']\n",
      "Epoch  37 :  ['<unk>', '<unk>', '<unk>', '<unk>', '<unk>', '<unk>', '<unk>', '<unk>', '<unk>', '<unk>', '<unk>', '<unk>', '<unk>', '<unk>', '<unk>', '<unk>', '<unk>', '<unk>', '<unk>', '<unk>']\n",
      "Epoch  38 :  ['<unk>', '<unk>', '<unk>', '<unk>', '<unk>', 'a', '<unk>', '<unk>', '<unk>', '<unk>', '<unk>', '<unk>', '<unk>', '<unk>', '<unk>', '<unk>', '<unk>', '<unk>', '<unk>', '<unk>']\n",
      "Epoch  39 :  ['<unk>', '<unk>', '<unk>', '<unk>', '<unk>', '<unk>', '<unk>', '<unk>', '<unk>', '<unk>', '<unk>', '<unk>', '<unk>', '<unk>', '<unk>', '<unk>', '<unk>', '<unk>', '<unk>', '<unk>']\n",
      "Epoch  40 :  ['<unk>', '<unk>', '<unk>', '<unk>', '<unk>', '<unk>', '<unk>', '<unk>', '<unk>', '<unk>', '<unk>', '<unk>', '<unk>', '<unk>', '<unk>', '<unk>', '<unk>', '<unk>', '<unk>', '<unk>']\n",
      "Epoch  41 :  ['<unk>', '<unk>', '<unk>', 'such', 'as', '<unk>', '<unk>', '<unk>', '<unk>', '<unk>', '<unk>', '<unk>', '<unk>', '<unk>', '<unk>', '<unk>', '<unk>', '<unk>', '<unk>', '<unk>']\n",
      "Epoch  42 :  ['<unk>', '<unk>', '<unk>', '<unk>', '<unk>', '<unk>', '<unk>', '<unk>', '<unk>', '<unk>', '<unk>', '<unk>', '<unk>', '<unk>', '<unk>', '<unk>', '<unk>', '<unk>', '<unk>', '<unk>']\n",
      "Epoch  43 :  ['<unk>', '<unk>', '<unk>', '<unk>', 'l', '<unk>', '<unk>', '<unk>', '<unk>', '<unk>', '<unk>', '<unk>', '<unk>', '<unk>', '<unk>', '<unk>', '<unk>', '<unk>', '<unk>', '<unk>']\n",
      "Epoch  44 :  ['<unk>', '<unk>', 'l', 'b', 'b', 'f', 'a', '</e>']\n",
      "Epoch  45 :  ['<unk>', '<unk>', '<unk>', '<unk>', '<unk>', '<unk>', '<unk>', '<unk>', '<unk>', '<unk>', '<unk>', '<unk>', '<unk>', '<unk>', '<unk>', '<unk>', '<unk>', '<unk>', '<unk>', '<unk>']\n",
      "Epoch  46 :  ['<unk>', '<unk>', '<unk>', '<unk>', '<unk>', '<unk>', '<unk>', '<unk>', '<unk>', '<unk>', '<unk>', '<unk>', '<unk>', '<unk>', '<unk>', '<unk>', '<unk>', '<unk>', '<unk>', '<unk>']\n",
      "Epoch  47 :  ['<unk>', '<unk>', '<unk>', 'r', '<unk>', 'k', '<unk>', '<unk>', '<unk>', '<unk>', '<unk>', '<unk>', '<unk>', '<unk>', '<unk>', '<unk>', '<unk>', '<unk>', '<unk>', '<unk>']\n",
      "Epoch  48 :  ['<unk>', '<unk>', '<unk>', 's', 'a', '<unk>', '<unk>', '<unk>', '<unk>', '<unk>', '<unk>', '<unk>', '<unk>', '<unk>', '<unk>', '<unk>', '<unk>', '<unk>', '<unk>', '<unk>']\n",
      "Epoch  49 :  ['<unk>', '<unk>', '<unk>', '<unk>', '<unk>', '<unk>', '<unk>', '<unk>', '<unk>', '<unk>', '<unk>', '<unk>', '<unk>', '<unk>', '<unk>', '<unk>', '<unk>', '<unk>', '<unk>', '<unk>']\n",
      "Epoch  50 :  ['<unk>', '<unk>', '<unk>', '<unk>', '<unk>', 'k', '<unk>', '<unk>', '<unk>', '<unk>', '<unk>', '<unk>', '<unk>', '<unk>', '<unk>', '<unk>', '<unk>', '<unk>', '<unk>', '<unk>']\n",
      "\n"
     ]
    }
   ],
   "source": [
    "print('Fasttext translations:')\n",
    "print()\n",
    "analysis.print_sentences('fasttext')\n",
    "print()\n",
    "print('Glove translations:')\n",
    "print()\n",
    "analysis.print_sentences('glove')\n",
    "print()\n",
    "print('Word2vec translations:')\n",
    "print()\n",
    "analysis.print_sentences('word2vec')\n",
    "print()"
   ]
  },
  {
   "cell_type": "markdown",
   "metadata": {},
   "source": [
    "### Small example of the first 10 sentences of the testing set.\n",
    "* Original sentence\n",
    "* Expected translation\n",
    "* Our translation with fasttext"
   ]
  },
  {
   "cell_type": "code",
   "execution_count": 9,
   "metadata": {},
   "outputs": [
    {
     "name": "stdout",
     "output_type": "stream",
     "text": [
      "['Bevor', 'der', 'Patient', 'in', 'andere', 'Zeitzonen', 'reist', 'sollte', 'er', 'sich', 'mit', 'seinem', 'Arzt', 'beraten']\n",
      "['before', 'travelling', 'between', 'different', 'time', 'zones', 'the', 'patient', 'should', 'seek', 'the', 'doctor', 's', 'advice']\n",
      "['<unk>', 'treatment', 'be', '<unk>', 'patient', 'in', 'patients', 'with', '<unk>', 'when', '<unk>', 'when', 'your', 'doctor', '</e>']\n",
      "\n",
      "['Wechselwirkungen', 'mit', 'anderen', 'Arzneimitteln']\n",
      "['interactions', 'with', 'other', 'medicinal', 'products']\n",
      "['medicinal', 'product', 'subject', 'to', 'medical', 'prescription', '</e>']\n",
      "\n",
      "['Die', 'erste', 'Injektion', 'von', 'Bemfola', 'muss', 'unter', 'Aufsicht', 'Ihres', 'Arztes', 'erfolgen']\n",
      "['the', 'first', 'injection', 'of', 'bemfola', 'should', 'be', 'given', 'under', 'supervision', 'of', 'your', 'doctor']\n",
      "['the', 'first', 'injection', 'of', 'bemfola', 'is', '<unk>', 'under', 'the', 'doctor', '</e>']\n",
      "\n",
      "['Verwirrtheit']\n",
      "['confusion']\n",
      "['<unk>', '</e>']\n",
      "\n",
      "['Phantasiename']\n",
      "['invented', 'name']\n",
      "['<unk>', '</e>']\n",
      "\n",
      "['Bei', 'Schweinen', 'beträgt', 'die', 'mittlere', 'Plasma', 'Eliminations', 'Halbwertszeit', 'nach', 'intramuskulärer', 'Verabreichung', 'Stunden']\n",
      "['in', 'pigs', 'after', 'intramuscular', 'administration', 'the', 'mean', 'plasma', 'elimination', 'half', 'life', 'is', 'approximately', 'hours']\n",
      "['in', 'healthy', 'dapagliflozin', 'the', 'apparent', 'half', 'life', '<unk>', '<unk>', 'plasma', 'is', 'approximately', 'hour', '</e>']\n",
      "\n",
      "['Zyklus', 'Zyklus', 'Zyklus', 'w', 'bis', 'w', 'Tage']\n",
      "['cycle', 'cycle', 'cycle', 'w', 'to', 'w', 'days']\n",
      "['time', 'of', 'response', 'days', '<unk>', '<unk>', 'month', '</e>']\n",
      "\n",
      "['November', 'Datum', 'der', 'letzten', 'Verlängerung', 'der', 'Zulassung']\n",
      "['date', 'of', 'first', 'authorisation', 'november', 'date', 'of', 'latest', 'renewal', 'november']\n",
      "['date', 'of', 'first', 'renewal', 'may', '</e>']\n",
      "\n",
      "['Deutschland']\n",
      "['germany']\n",
      "['<unk>', '</e>']\n",
      "\n"
     ]
    }
   ],
   "source": [
    "for example in test_data[1:10]:\n",
    "        src = vars(example)[PRM.SOURCE]\n",
    "        trg = vars(example)[PRM.TARGET]\n",
    "        prediction = translate_sentence(model, src, german, english, device)\n",
    "        print(src)\n",
    "        print(trg)\n",
    "        print(prediction)\n",
    "        print()"
   ]
  },
  {
   "cell_type": "markdown",
   "metadata": {},
   "source": [
    "### Computation of the blue score with our testing set\n",
    "* We decided to compute the blue score only with the first 100 sentences of our testing set due to some time constraints."
   ]
  },
  {
   "cell_type": "code",
   "execution_count": 10,
   "metadata": {},
   "outputs": [
    {
     "name": "stdout",
     "output_type": "stream",
     "text": [
      "Bleu score 20.28\n"
     ]
    }
   ],
   "source": [
    "score = bleu(test_data[1:100], model, german, english, device)\n",
    "print(f\"Bleu score {score*100:.2f}\")"
   ]
  },
  {
   "cell_type": "markdown",
   "metadata": {},
   "source": [
    "### Blue score with fasttext embeddings: 20.28\n",
    "### Blue score with glove embeddings: 20.21\n",
    "### Blue score with word2vec embeddings: 0"
   ]
  }
 ],
 "metadata": {
  "kernelspec": {
   "display_name": "Python 3",
   "language": "python",
   "name": "python3"
  },
  "language_info": {
   "codemirror_mode": {
    "name": "ipython",
    "version": 3
   },
   "file_extension": ".py",
   "mimetype": "text/x-python",
   "name": "python",
   "nbconvert_exporter": "python",
   "pygments_lexer": "ipython3",
   "version": "3.6.12"
  }
 },
 "nbformat": 4,
 "nbformat_minor": 4
}
